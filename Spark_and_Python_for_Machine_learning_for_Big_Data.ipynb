{
 "cells": [
  {
   "cell_type": "markdown",
   "metadata": {
    "id": "8326ba88"
   },
   "source": [
    "## Objective:\n",
    "- The objective from this project is to create a <b>Logistic Regression Classifier</b> to predict the <b>Stroke Condition</b>.\n",
    "- <b>Stoke</b> is a condition in which either the blood flow to the brain stops or blood flow is excessive.\n",
    "- It is required to obtain <b>ROC > 0.65</b>."
   ]
  },
  {
   "cell_type": "markdown",
   "metadata": {
    "id": "0eb78c16"
   },
   "source": [
    "### Data:\n",
    "- Data is provided in csv format in a file named <b>healthcare-dataset-stroke-data.csv</b>"
   ]
  },
  {
   "cell_type": "markdown",
   "metadata": {
    "id": "7c842b79"
   },
   "source": [
    "### Column names and data types are as follow:\n",
    "- id, integer.\n",
    "- gender, string.\n",
    "- age, double.\n",
    "- hypertension, integer.\n",
    "- heart_disease, integer.\n",
    "- ever_married, string.\n",
    "- work_type, string.\n",
    "- Residence_type, string.\n",
    "- avg_glucose_level, double.\n",
    "- bmi, double.\n",
    "- smoking_status, string.\n",
    "- stroke, integer <b>(Target Label)</b>.\n",
    "If the person has stroke the stroke label value is <b>\"1\"</b> otherwise <b>\"0\"</b>."
   ]
  },
  {
   "cell_type": "markdown",
   "metadata": {
    "id": "e31bc851"
   },
   "source": [
    "### Create a spark session and import the required libraries"
   ]
  },
  {
   "cell_type": "code",
   "execution_count": null,
   "metadata": {
    "colab": {
     "base_uri": "https://localhost:8080/"
    },
    "id": "U1BBuRr4sKhC",
    "outputId": "7a80a953-1e59-4c3a-f331-e6925b846524"
   },
   "outputs": [
    {
     "name": "stdout",
     "output_type": "stream",
     "text": [
      "Requirement already satisfied: pyspark in /usr/local/lib/python3.7/dist-packages (3.2.0)\n",
      "Requirement already satisfied: py4j==0.10.9.2 in /usr/local/lib/python3.7/dist-packages (from pyspark) (0.10.9.2)\n"
     ]
    }
   ],
   "source": [
    "!pip install pyspark "
   ]
  },
  {
   "cell_type": "code",
   "execution_count": null,
   "metadata": {
    "id": "H1pAlv1itJ8B"
   },
   "outputs": [],
   "source": [
    "# importing libraries\n",
    "from pyspark import SparkContext\n",
    "from pyspark.sql import SparkSession\n",
    "from pyspark.sql.types import *\n",
    "from pyspark.sql.functions import *\n",
    "from pyspark.sql.types import *"
   ]
  },
  {
   "cell_type": "code",
   "execution_count": null,
   "metadata": {
    "id": "ab3ba311"
   },
   "outputs": [],
   "source": [
    "spark = SparkSession.builder.appName(\"Spark Exam\").getOrCreate()"
   ]
  },
  {
   "cell_type": "markdown",
   "metadata": {
    "id": "843b8468"
   },
   "source": [
    "### Create a data schema programatically"
   ]
  },
  {
   "cell_type": "code",
   "execution_count": null,
   "metadata": {
    "id": "8616fe16"
   },
   "outputs": [],
   "source": [
    "schema = \"id INT,gender STRING, age Double,hypertension INT ,heart_disease INT ,ever_married STRING, work_type STRING,Residence_type STRING,avg_glucose_level Double,bmi Double,smoking_status STRING,stroke INT\"\n"
   ]
  },
  {
   "cell_type": "markdown",
   "metadata": {
    "id": "2d00718f"
   },
   "source": [
    "\n",
    "- Provide the schema and any other required options."
   ]
  },
  {
   "cell_type": "code",
   "execution_count": null,
   "metadata": {
    "id": "61fcc4cd"
   },
   "outputs": [],
   "source": [
    "df=(spark.read.format('csv')\n",
    "    .schema(schema)\n",
    "    .option('header','true')\n",
    "    .load(\"/content/healthcare_dataset_stroke_data.csv\"))"
   ]
  },
  {
   "cell_type": "markdown",
   "metadata": {
    "id": "974bc193"
   },
   "source": [
    "### Explore the data \n",
    "#### You have to do the following:\n",
    "- Print the Schema.\n",
    "- Show the first 10 rows from the data.\n",
    "- Explore null values and show how many null values in each column.\n",
    "- Plot a count plot for the target label and <b>notice the graph</b>.\n",
    "- Perform any additional EDA you find useful."
   ]
  },
  {
   "cell_type": "code",
   "execution_count": null,
   "metadata": {
    "colab": {
     "base_uri": "https://localhost:8080/"
    },
    "id": "353b6f34",
    "outputId": "e986a0de-c1f5-4cf6-bd1e-7e1cd0b7fe70"
   },
   "outputs": [
    {
     "name": "stdout",
     "output_type": "stream",
     "text": [
      "root\n",
      " |-- id: integer (nullable = true)\n",
      " |-- gender: string (nullable = true)\n",
      " |-- age: double (nullable = true)\n",
      " |-- hypertension: integer (nullable = true)\n",
      " |-- heart_disease: integer (nullable = true)\n",
      " |-- ever_married: string (nullable = true)\n",
      " |-- work_type: string (nullable = true)\n",
      " |-- Residence_type: string (nullable = true)\n",
      " |-- avg_glucose_level: double (nullable = true)\n",
      " |-- bmi: double (nullable = true)\n",
      " |-- smoking_status: string (nullable = true)\n",
      " |-- stroke: integer (nullable = true)\n",
      "\n",
      "+-----+------+----+------------+-------------+------------+-------------+--------------+-----------------+----+---------------+------+\n",
      "|   id|gender| age|hypertension|heart_disease|ever_married|    work_type|Residence_type|avg_glucose_level| bmi| smoking_status|stroke|\n",
      "+-----+------+----+------------+-------------+------------+-------------+--------------+-----------------+----+---------------+------+\n",
      "| 9046|  Male|67.0|           0|            1|         Yes|      Private|         Urban|           228.69|36.6|formerly smoked|     1|\n",
      "|51676|Female|61.0|           0|            0|         Yes|Self-employed|         Rural|           202.21|null|   never smoked|     1|\n",
      "|31112|  Male|80.0|           0|            1|         Yes|      Private|         Rural|           105.92|32.5|   never smoked|     1|\n",
      "|60182|Female|49.0|           0|            0|         Yes|      Private|         Urban|           171.23|34.4|         smokes|     1|\n",
      "| 1665|Female|79.0|           1|            0|         Yes|Self-employed|         Rural|           174.12|24.0|   never smoked|     1|\n",
      "|56669|  Male|81.0|           0|            0|         Yes|      Private|         Urban|           186.21|29.0|formerly smoked|     1|\n",
      "|53882|  Male|74.0|           1|            1|         Yes|      Private|         Rural|            70.09|27.4|   never smoked|     1|\n",
      "|10434|Female|69.0|           0|            0|          No|      Private|         Urban|            94.39|22.8|   never smoked|     1|\n",
      "|27419|Female|59.0|           0|            0|         Yes|      Private|         Rural|            76.15|null|        Unknown|     1|\n",
      "|60491|Female|78.0|           0|            0|         Yes|      Private|         Urban|            58.57|24.2|        Unknown|     1|\n",
      "+-----+------+----+------------+-------------+------------+-------------+--------------+-----------------+----+---------------+------+\n",
      "only showing top 10 rows\n",
      "\n"
     ]
    }
   ],
   "source": [
    "df.printSchema()\n",
    "df.show(10)"
   ]
  },
  {
   "cell_type": "code",
   "execution_count": null,
   "metadata": {
    "colab": {
     "base_uri": "https://localhost:8080/"
    },
    "id": "vIHEn8lu0ixl",
    "outputId": "91302d1e-a606-434e-84b0-01b90c3f2190"
   },
   "outputs": [
    {
     "name": "stdout",
     "output_type": "stream",
     "text": [
      "+---+------+---+------------+-------------+------------+---------+--------------+-----------------+---+--------------+------+\n",
      "| id|gender|age|hypertension|heart_disease|ever_married|work_type|Residence_type|avg_glucose_level|bmi|smoking_status|stroke|\n",
      "+---+------+---+------------+-------------+------------+---------+--------------+-----------------+---+--------------+------+\n",
      "|  0|     0|  0|           0|            0|           0|        0|             0|                0|201|             0|     0|\n",
      "+---+------+---+------------+-------------+------------+---------+--------------+-----------------+---+--------------+------+\n",
      "\n"
     ]
    }
   ],
   "source": [
    "from pyspark.sql.functions import col,isnan,when,count\n",
    "df.select([count(when(col(c).contains('None') | \\\n",
    "                            col(c).contains('NULL') | \\\n",
    "                            (col(c) == '' ) | \\\n",
    "                            col(c).isNull() | \\\n",
    "                            isnan(c), c \n",
    "                           )).alias(c)\n",
    "                    for c in df.columns]).show()"
   ]
  },
  {
   "cell_type": "code",
   "execution_count": null,
   "metadata": {
    "colab": {
     "base_uri": "https://localhost:8080/"
    },
    "id": "h6aghBqQ1540",
    "outputId": "827c87e9-690e-4765-dcf7-0794786bff34"
   },
   "outputs": [
    {
     "name": "stdout",
     "output_type": "stream",
     "text": [
      "         id  gender   age  ...   bmi   smoking_status stroke\n",
      "0      9046    Male  67.0  ...  36.6  formerly smoked      1\n",
      "1     51676  Female  61.0  ...   NaN     never smoked      1\n",
      "2     31112    Male  80.0  ...  32.5     never smoked      1\n",
      "3     60182  Female  49.0  ...  34.4           smokes      1\n",
      "4      1665  Female  79.0  ...  24.0     never smoked      1\n",
      "...     ...     ...   ...  ...   ...              ...    ...\n",
      "5105  18234  Female  80.0  ...   NaN     never smoked      0\n",
      "5106  44873  Female  81.0  ...  40.0     never smoked      0\n",
      "5107  19723  Female  35.0  ...  30.6     never smoked      0\n",
      "5108  37544    Male  51.0  ...  25.6  formerly smoked      0\n",
      "5109  44679  Female  44.0  ...  26.2          Unknown      0\n",
      "\n",
      "[5110 rows x 12 columns]\n"
     ]
    }
   ],
   "source": [
    "pandasDF = df.toPandas()\n",
    "print(pandasDF)"
   ]
  },
  {
   "cell_type": "code",
   "execution_count": null,
   "metadata": {
    "colab": {
     "base_uri": "https://localhost:8080/",
     "height": 296
    },
    "id": "6fb198f0",
    "outputId": "c4a4b7d6-236e-4961-9651-d28288802ba4"
   },
   "outputs": [
    {
     "data": {
      "text/plain": [
       "<matplotlib.axes._subplots.AxesSubplot at 0x7f129b6f55d0>"
      ]
     },
     "execution_count": 203,
     "metadata": {},
     "output_type": "execute_result"
    },
    {
     "data": {
      "image/png": "[encoded data removed]",
      "text/plain": [
       "<Figure size 432x288 with 1 Axes>"
      ]
     },
     "metadata": {
      "needs_background": "light"
     },
     "output_type": "display_data"
    }
   ],
   "source": [
    "import seaborn as sns\n",
    "sns.countplot(x=\"stroke\",data=pandasDF)"
   ]
  },
  {
   "cell_type": "markdown",
   "metadata": {
    "id": "59b770cb"
   },
   "source": [
    "### Get the summary statistics of the age column\n",
    "- You will find the minimum age is about <b>0.08</b>.\n",
    "- Remove rows for the age below <b>2 years old</b>."
   ]
  },
  {
   "cell_type": "code",
   "execution_count": null,
   "metadata": {
    "colab": {
     "base_uri": "https://localhost:8080/"
    },
    "id": "ed40fb11",
    "outputId": "a9251ea4-91b7-483c-acb2-ee921de3b919",
    "scrolled": false
   },
   "outputs": [
    {
     "name": "stdout",
     "output_type": "stream",
     "text": [
      "+-------+------------------+\n",
      "|summary|               age|\n",
      "+-------+------------------+\n",
      "|  count|              5110|\n",
      "|   mean|43.226614481409015|\n",
      "| stddev| 22.61264672311348|\n",
      "|    min|              0.08|\n",
      "|    max|              82.0|\n",
      "+-------+------------------+\n",
      "\n"
     ]
    }
   ],
   "source": [
    "df.describe(['age']).show()"
   ]
  },
  {
   "cell_type": "code",
   "execution_count": null,
   "metadata": {
    "colab": {
     "base_uri": "https://localhost:8080/"
    },
    "id": "cc99c0be",
    "outputId": "c2701633-b239-4cdb-f2b5-d77efe503ee7"
   },
   "outputs": [
    {
     "name": "stdout",
     "output_type": "stream",
     "text": [
      "+-----+------+----+------------+-------------+------------+-------------+--------------+-----------------+----+---------------+------+\n",
      "|   id|gender| age|hypertension|heart_disease|ever_married|    work_type|Residence_type|avg_glucose_level| bmi| smoking_status|stroke|\n",
      "+-----+------+----+------------+-------------+------------+-------------+--------------+-----------------+----+---------------+------+\n",
      "| 9046|  Male|67.0|           0|            1|         Yes|      Private|         Urban|           228.69|36.6|formerly smoked|     1|\n",
      "|51676|Female|61.0|           0|            0|         Yes|Self-employed|         Rural|           202.21|null|   never smoked|     1|\n",
      "|31112|  Male|80.0|           0|            1|         Yes|      Private|         Rural|           105.92|32.5|   never smoked|     1|\n",
      "|60182|Female|49.0|           0|            0|         Yes|      Private|         Urban|           171.23|34.4|         smokes|     1|\n",
      "| 1665|Female|79.0|           1|            0|         Yes|Self-employed|         Rural|           174.12|24.0|   never smoked|     1|\n",
      "|56669|  Male|81.0|           0|            0|         Yes|      Private|         Urban|           186.21|29.0|formerly smoked|     1|\n",
      "|53882|  Male|74.0|           1|            1|         Yes|      Private|         Rural|            70.09|27.4|   never smoked|     1|\n",
      "|10434|Female|69.0|           0|            0|          No|      Private|         Urban|            94.39|22.8|   never smoked|     1|\n",
      "|27419|Female|59.0|           0|            0|         Yes|      Private|         Rural|            76.15|null|        Unknown|     1|\n",
      "|60491|Female|78.0|           0|            0|         Yes|      Private|         Urban|            58.57|24.2|        Unknown|     1|\n",
      "|12109|Female|81.0|           1|            0|         Yes|      Private|         Rural|            80.43|29.7|   never smoked|     1|\n",
      "|12095|Female|61.0|           0|            1|         Yes|     Govt_job|         Rural|           120.46|36.8|         smokes|     1|\n",
      "|12175|Female|54.0|           0|            0|         Yes|      Private|         Urban|           104.51|27.3|         smokes|     1|\n",
      "| 8213|  Male|78.0|           0|            1|         Yes|      Private|         Urban|           219.84|null|        Unknown|     1|\n",
      "| 5317|Female|79.0|           0|            1|         Yes|      Private|         Urban|           214.09|28.2|   never smoked|     1|\n",
      "|58202|Female|50.0|           1|            0|         Yes|Self-employed|         Rural|           167.41|30.9|   never smoked|     1|\n",
      "|56112|  Male|64.0|           0|            1|         Yes|      Private|         Urban|           191.61|37.5|         smokes|     1|\n",
      "|34120|  Male|75.0|           1|            0|         Yes|      Private|         Urban|           221.29|25.8|         smokes|     1|\n",
      "|27458|Female|60.0|           0|            0|          No|      Private|         Urban|            89.22|37.8|   never smoked|     1|\n",
      "|25226|  Male|57.0|           0|            1|          No|     Govt_job|         Urban|           217.08|null|        Unknown|     1|\n",
      "+-----+------+----+------------+-------------+------------+-------------+--------------+-----------------+----+---------------+------+\n",
      "only showing top 20 rows\n",
      "\n"
     ]
    }
   ],
   "source": [
    "df = df.filter(df.age > 2)\n",
    "df.show()"
   ]
  },
  {
   "cell_type": "markdown",
   "metadata": {
    "id": "bf8c9498"
   },
   "source": [
    "### Working with gender & smoking_status columns:\n",
    "- Select and show the gender & smoking_status columns\n",
    "- Get the distinct values for each column."
   ]
  },
  {
   "cell_type": "code",
   "execution_count": null,
   "metadata": {
    "colab": {
     "base_uri": "https://localhost:8080/"
    },
    "id": "925a5ecd",
    "outputId": "bab52527-7797-4684-b304-4b03e4074317"
   },
   "outputs": [
    {
     "name": "stdout",
     "output_type": "stream",
     "text": [
      "+------+---------------+\n",
      "|gender| smoking_status|\n",
      "+------+---------------+\n",
      "|  Male|formerly smoked|\n",
      "|Female|   never smoked|\n",
      "|  Male|   never smoked|\n",
      "|Female|         smokes|\n",
      "|Female|   never smoked|\n",
      "|  Male|formerly smoked|\n",
      "|  Male|   never smoked|\n",
      "|Female|   never smoked|\n",
      "|Female|        Unknown|\n",
      "|Female|        Unknown|\n",
      "|Female|   never smoked|\n",
      "|Female|         smokes|\n",
      "|Female|         smokes|\n",
      "|  Male|        Unknown|\n",
      "|Female|   never smoked|\n",
      "|Female|   never smoked|\n",
      "|  Male|         smokes|\n",
      "|  Male|         smokes|\n",
      "|Female|   never smoked|\n",
      "|  Male|        Unknown|\n",
      "+------+---------------+\n",
      "only showing top 20 rows\n",
      "\n"
     ]
    }
   ],
   "source": [
    "df.select(df.gender,df.smoking_status).show()"
   ]
  },
  {
   "cell_type": "code",
   "execution_count": null,
   "metadata": {
    "colab": {
     "base_uri": "https://localhost:8080/"
    },
    "id": "9dfe35a4",
    "outputId": "252c1783-73a6-4ec3-b044-57ef18032fdd"
   },
   "outputs": [
    {
     "name": "stdout",
     "output_type": "stream",
     "text": [
      "+------+\n",
      "|gender|\n",
      "+------+\n",
      "|Female|\n",
      "| Other|\n",
      "|  Male|\n",
      "+------+\n",
      "\n"
     ]
    }
   ],
   "source": [
    "df.select(df.gender).distinct().show()"
   ]
  },
  {
   "cell_type": "code",
   "execution_count": null,
   "metadata": {
    "colab": {
     "base_uri": "https://localhost:8080/"
    },
    "id": "b7bf6c7e",
    "outputId": "a055f656-dd55-4cdd-8554-eb51aeec107a"
   },
   "outputs": [
    {
     "name": "stdout",
     "output_type": "stream",
     "text": [
      "+---------------+\n",
      "| smoking_status|\n",
      "+---------------+\n",
      "|         smokes|\n",
      "|        Unknown|\n",
      "|   never smoked|\n",
      "|formerly smoked|\n",
      "+---------------+\n",
      "\n"
     ]
    }
   ],
   "source": [
    "df.select(df.smoking_status).distinct().show()"
   ]
  },
  {
   "cell_type": "markdown",
   "metadata": {
    "id": "850bdfe1"
   },
   "source": [
    "#### Change the string values of the columns into numerical values as follow:\n",
    "1. Gender column:\n",
    "    * Male = 1 \n",
    "    * Female = 0 \n",
    "    * Other = 0 \n",
    "2. Smoking Status column:\n",
    "  * never smoked = 0\n",
    "  * Unknown = 0.5\n",
    "  * formerly smoked = 0.75\n",
    "  * smokes = 1.0\n"
   ]
  },
  {
   "cell_type": "code",
   "execution_count": null,
   "metadata": {
    "colab": {
     "base_uri": "https://localhost:8080/"
    },
    "id": "355f2ef0",
    "outputId": "be51095d-9076-4ecf-e2ee-7df8746826f9"
   },
   "outputs": [
    {
     "name": "stdout",
     "output_type": "stream",
     "text": [
      "+-----+------+----+------------+-------------+------------+-------------+--------------+-----------------+----+--------------+------+\n",
      "|   id|gender| age|hypertension|heart_disease|ever_married|    work_type|Residence_type|avg_glucose_level| bmi|smoking_status|stroke|\n",
      "+-----+------+----+------------+-------------+------------+-------------+--------------+-----------------+----+--------------+------+\n",
      "| 9046|     1|67.0|           0|            1|         Yes|      Private|         Urban|           228.69|36.6|          0.75|     1|\n",
      "|51676|     0|61.0|           0|            0|         Yes|Self-employed|         Rural|           202.21|null|           0.0|     1|\n",
      "|31112|     1|80.0|           0|            1|         Yes|      Private|         Rural|           105.92|32.5|           0.0|     1|\n",
      "|60182|     0|49.0|           0|            0|         Yes|      Private|         Urban|           171.23|34.4|           1.0|     1|\n",
      "| 1665|     0|79.0|           1|            0|         Yes|Self-employed|         Rural|           174.12|24.0|           0.0|     1|\n",
      "|56669|     1|81.0|           0|            0|         Yes|      Private|         Urban|           186.21|29.0|          0.75|     1|\n",
      "|53882|     1|74.0|           1|            1|         Yes|      Private|         Rural|            70.09|27.4|           0.0|     1|\n",
      "|10434|     0|69.0|           0|            0|          No|      Private|         Urban|            94.39|22.8|           0.0|     1|\n",
      "|27419|     0|59.0|           0|            0|         Yes|      Private|         Rural|            76.15|null|           0.5|     1|\n",
      "|60491|     0|78.0|           0|            0|         Yes|      Private|         Urban|            58.57|24.2|           0.5|     1|\n",
      "|12109|     0|81.0|           1|            0|         Yes|      Private|         Rural|            80.43|29.7|           0.0|     1|\n",
      "|12095|     0|61.0|           0|            1|         Yes|     Govt_job|         Rural|           120.46|36.8|           1.0|     1|\n",
      "|12175|     0|54.0|           0|            0|         Yes|      Private|         Urban|           104.51|27.3|           1.0|     1|\n",
      "| 8213|     1|78.0|           0|            1|         Yes|      Private|         Urban|           219.84|null|           0.5|     1|\n",
      "| 5317|     0|79.0|           0|            1|         Yes|      Private|         Urban|           214.09|28.2|           0.0|     1|\n",
      "|58202|     0|50.0|           1|            0|         Yes|Self-employed|         Rural|           167.41|30.9|           0.0|     1|\n",
      "|56112|     1|64.0|           0|            1|         Yes|      Private|         Urban|           191.61|37.5|           1.0|     1|\n",
      "|34120|     1|75.0|           1|            0|         Yes|      Private|         Urban|           221.29|25.8|           1.0|     1|\n",
      "|27458|     0|60.0|           0|            0|          No|      Private|         Urban|            89.22|37.8|           0.0|     1|\n",
      "|25226|     1|57.0|           0|            1|          No|     Govt_job|         Urban|           217.08|null|           0.5|     1|\n",
      "+-----+------+----+------------+-------------+------------+-------------+--------------+-----------------+----+--------------+------+\n",
      "only showing top 20 rows\n",
      "\n"
     ]
    }
   ],
   "source": [
    "df=df.withColumn(\"gender\",\n",
    "                     when(col(\"gender\")=='Male', 1)\n",
    "                     .when(col(\"gender\")=='Female', 0)\n",
    "                     .otherwise(0))\n",
    "\n",
    "df=df.withColumn(\"smoking_status\",when(col(\"smoking_status\")=='never smoked', 0)\n",
    "                     .when(col(\"smoking_status\")=='Unknown', 0.5)\n",
    "                     .when(col(\"smoking_status\")=='formerly smoked', 0.75)\n",
    "                     .when(col(\"smoking_status\")=='smokes', 1))\n",
    "df.show()"
   ]
  },
  {
   "cell_type": "markdown",
   "metadata": {
    "id": "3da38a31"
   },
   "source": [
    "#### Show the output DataFrame\n",
    "- Select and show the gender & smoking_status columns after value changing.\n",
    "- Print schema for the new dataframe."
   ]
  },
  {
   "cell_type": "code",
   "execution_count": null,
   "metadata": {
    "colab": {
     "base_uri": "https://localhost:8080/"
    },
    "id": "7df0cf29",
    "outputId": "d0b9c3b1-3081-4c61-b132-ecb34b183470"
   },
   "outputs": [
    {
     "name": "stdout",
     "output_type": "stream",
     "text": [
      "+------+--------------+\n",
      "|gender|smoking_status|\n",
      "+------+--------------+\n",
      "|     1|          0.75|\n",
      "|     0|           0.0|\n",
      "|     1|           0.0|\n",
      "|     0|           1.0|\n",
      "|     0|           0.0|\n",
      "|     1|          0.75|\n",
      "|     1|           0.0|\n",
      "|     0|           0.0|\n",
      "|     0|           0.5|\n",
      "|     0|           0.5|\n",
      "|     0|           0.0|\n",
      "|     0|           1.0|\n",
      "|     0|           1.0|\n",
      "|     1|           0.5|\n",
      "|     0|           0.0|\n",
      "|     0|           0.0|\n",
      "|     1|           1.0|\n",
      "|     1|           1.0|\n",
      "|     0|           0.0|\n",
      "|     1|           0.5|\n",
      "+------+--------------+\n",
      "only showing top 20 rows\n",
      "\n"
     ]
    }
   ],
   "source": [
    "df.select(df.gender,df.smoking_status).show()"
   ]
  },
  {
   "cell_type": "markdown",
   "metadata": {
    "id": "89ce3b77"
   },
   "source": [
    "### Deal with null value according to your data analysis."
   ]
  },
  {
   "cell_type": "code",
   "execution_count": null,
   "metadata": {
    "colab": {
     "base_uri": "https://localhost:8080/"
    },
    "id": "265Lmg819K4e",
    "outputId": "f1730b69-7c82-4982-9bdc-17fca45007f5"
   },
   "outputs": [
    {
     "data": {
      "text/plain": [
       "29"
      ]
     },
     "execution_count": 249,
     "metadata": {},
     "output_type": "execute_result"
    }
   ],
   "source": [
    "from pyspark.sql.functions import mean,round\n",
    "mean_val = df.select(mean(df['bmi'])).collect()\n",
    "mean_bmi =int( mean_val[0][0])\n",
    "mean_bmi"
   ]
  },
  {
   "cell_type": "code",
   "execution_count": null,
   "metadata": {
    "colab": {
     "base_uri": "https://localhost:8080/"
    },
    "id": "4d78cb87",
    "outputId": "bfe34364-390b-4de1-8638-233a2de0a590"
   },
   "outputs": [
    {
     "name": "stdout",
     "output_type": "stream",
     "text": [
      "+-----+------+----+------------+-------------+------------+-------------+--------------+-----------------+------------------+--------------+------+\n",
      "|   id|gender| age|hypertension|heart_disease|ever_married|    work_type|Residence_type|avg_glucose_level|               bmi|smoking_status|stroke|\n",
      "+-----+------+----+------------+-------------+------------+-------------+--------------+-----------------+------------------+--------------+------+\n",
      "| 9046|     1|67.0|           0|            1|         Yes|      Private|         Urban|           228.69|              36.6|          0.75|     1|\n",
      "|51676|     0|61.0|           0|            0|         Yes|Self-employed|         Rural|           202.21|29.257489451476793|           0.0|     1|\n",
      "|31112|     1|80.0|           0|            1|         Yes|      Private|         Rural|           105.92|              32.5|           0.0|     1|\n",
      "|60182|     0|49.0|           0|            0|         Yes|      Private|         Urban|           171.23|              34.4|           1.0|     1|\n",
      "| 1665|     0|79.0|           1|            0|         Yes|Self-employed|         Rural|           174.12|              24.0|           0.0|     1|\n",
      "|56669|     1|81.0|           0|            0|         Yes|      Private|         Urban|           186.21|              29.0|          0.75|     1|\n",
      "|53882|     1|74.0|           1|            1|         Yes|      Private|         Rural|            70.09|              27.4|           0.0|     1|\n",
      "|10434|     0|69.0|           0|            0|          No|      Private|         Urban|            94.39|              22.8|           0.0|     1|\n",
      "|27419|     0|59.0|           0|            0|         Yes|      Private|         Rural|            76.15|29.257489451476793|           0.5|     1|\n",
      "|60491|     0|78.0|           0|            0|         Yes|      Private|         Urban|            58.57|              24.2|           0.5|     1|\n",
      "|12109|     0|81.0|           1|            0|         Yes|      Private|         Rural|            80.43|              29.7|           0.0|     1|\n",
      "|12095|     0|61.0|           0|            1|         Yes|     Govt_job|         Rural|           120.46|              36.8|           1.0|     1|\n",
      "|12175|     0|54.0|           0|            0|         Yes|      Private|         Urban|           104.51|              27.3|           1.0|     1|\n",
      "| 8213|     1|78.0|           0|            1|         Yes|      Private|         Urban|           219.84|29.257489451476793|           0.5|     1|\n",
      "| 5317|     0|79.0|           0|            1|         Yes|      Private|         Urban|           214.09|              28.2|           0.0|     1|\n",
      "|58202|     0|50.0|           1|            0|         Yes|Self-employed|         Rural|           167.41|              30.9|           0.0|     1|\n",
      "|56112|     1|64.0|           0|            1|         Yes|      Private|         Urban|           191.61|              37.5|           1.0|     1|\n",
      "|34120|     1|75.0|           1|            0|         Yes|      Private|         Urban|           221.29|              25.8|           1.0|     1|\n",
      "|27458|     0|60.0|           0|            0|          No|      Private|         Urban|            89.22|              37.8|           0.0|     1|\n",
      "|25226|     1|57.0|           0|            1|          No|     Govt_job|         Urban|           217.08|29.257489451476793|           0.5|     1|\n",
      "+-----+------+----+------------+-------------+------------+-------------+--------------+-----------------+------------------+--------------+------+\n",
      "only showing top 20 rows\n",
      "\n"
     ]
    }
   ],
   "source": [
    "\n",
    "df=df.na.fill(mean_bmi,subset=['bmi'])\n",
    "df.show()"
   ]
  },
  {
   "cell_type": "markdown",
   "metadata": {
    "id": "053c429a"
   },
   "source": [
    "### Split the data into training and test dataframes:\n",
    "- 80% training and 20% test.\n",
    "- seed = 42.\n",
    "- Save each dataframe as a parquet file"
   ]
  },
  {
   "cell_type": "code",
   "execution_count": null,
   "metadata": {
    "colab": {
     "base_uri": "https://localhost:8080/"
    },
    "id": "0236ea8b",
    "outputId": "d5b3e402-1864-4ad1-ac35-70e5132a1fab"
   },
   "outputs": [
    {
     "name": "stdout",
     "output_type": "stream",
     "text": [
      "There are 3991 rows in the training set, and 944 in the test set\n"
     ]
    }
   ],
   "source": [
    "trainDF, testDF = df.randomSplit([.8,.2],seed=42)\n",
    "print(f\"There are {trainDF.count()} rows in the training set, and {testDF.count()} in the test set\")"
   ]
  },
  {
   "cell_type": "code",
   "execution_count": null,
   "metadata": {
    "colab": {
     "base_uri": "https://localhost:8080/",
     "height": 320
    },
    "id": "Z03_p7_eBv4_",
    "outputId": "aa70b897-eb7e-40eb-92b7-bbca9e8c9ffd"
   },
   "outputs": [
    {
     "ename": "AnalysisException",
     "evalue": "ignored",
     "output_type": "error",
     "traceback": [
      "\u001b[0;31m---------------------------------------------------------------------------\u001b[0m",
      "\u001b[0;31mAnalysisException\u001b[0m                         Traceback (most recent call last)",
      "\u001b[0;32m<ipython-input-214-ce436892328f>\u001b[0m in \u001b[0;36m<module>\u001b[0;34m()\u001b[0m\n\u001b[0;32m----> 1\u001b[0;31m \u001b[0mtrainDF\u001b[0m\u001b[0;34m.\u001b[0m\u001b[0mwrite\u001b[0m\u001b[0;34m.\u001b[0m\u001b[0mparquet\u001b[0m\u001b[0;34m(\u001b[0m\u001b[0;34m\"train.parquet\"\u001b[0m\u001b[0;34m)\u001b[0m\u001b[0;34m\u001b[0m\u001b[0;34m\u001b[0m\u001b[0m\n\u001b[0m\u001b[1;32m      2\u001b[0m \u001b[0mtestDF\u001b[0m\u001b[0;34m.\u001b[0m\u001b[0mwrite\u001b[0m\u001b[0;34m.\u001b[0m\u001b[0mparquet\u001b[0m\u001b[0;34m(\u001b[0m\u001b[0;34m\"test.parquet\"\u001b[0m\u001b[0;34m)\u001b[0m\u001b[0;34m\u001b[0m\u001b[0;34m\u001b[0m\u001b[0m\n",
      "\u001b[0;32m/usr/local/lib/python3.7/dist-packages/pyspark/sql/readwriter.py\u001b[0m in \u001b[0;36mparquet\u001b[0;34m(self, path, mode, partitionBy, compression)\u001b[0m\n\u001b[1;32m    883\u001b[0m             \u001b[0mself\u001b[0m\u001b[0;34m.\u001b[0m\u001b[0mpartitionBy\u001b[0m\u001b[0;34m(\u001b[0m\u001b[0mpartitionBy\u001b[0m\u001b[0;34m)\u001b[0m\u001b[0;34m\u001b[0m\u001b[0;34m\u001b[0m\u001b[0m\n\u001b[1;32m    884\u001b[0m         \u001b[0mself\u001b[0m\u001b[0;34m.\u001b[0m\u001b[0m_set_opts\u001b[0m\u001b[0;34m(\u001b[0m\u001b[0mcompression\u001b[0m\u001b[0;34m=\u001b[0m\u001b[0mcompression\u001b[0m\u001b[0;34m)\u001b[0m\u001b[0;34m\u001b[0m\u001b[0;34m\u001b[0m\u001b[0m\n\u001b[0;32m--> 885\u001b[0;31m         \u001b[0mself\u001b[0m\u001b[0;34m.\u001b[0m\u001b[0m_jwrite\u001b[0m\u001b[0;34m.\u001b[0m\u001b[0mparquet\u001b[0m\u001b[0;34m(\u001b[0m\u001b[0mpath\u001b[0m\u001b[0;34m)\u001b[0m\u001b[0;34m\u001b[0m\u001b[0;34m\u001b[0m\u001b[0m\n\u001b[0m\u001b[1;32m    886\u001b[0m \u001b[0;34m\u001b[0m\u001b[0m\n\u001b[1;32m    887\u001b[0m     \u001b[0;32mdef\u001b[0m \u001b[0mtext\u001b[0m\u001b[0;34m(\u001b[0m\u001b[0mself\u001b[0m\u001b[0;34m,\u001b[0m \u001b[0mpath\u001b[0m\u001b[0;34m,\u001b[0m \u001b[0mcompression\u001b[0m\u001b[0;34m=\u001b[0m\u001b[0;32mNone\u001b[0m\u001b[0;34m,\u001b[0m \u001b[0mlineSep\u001b[0m\u001b[0;34m=\u001b[0m\u001b[0;32mNone\u001b[0m\u001b[0;34m)\u001b[0m\u001b[0;34m:\u001b[0m\u001b[0;34m\u001b[0m\u001b[0;34m\u001b[0m\u001b[0m\n",
      "\u001b[0;32m/usr/local/lib/python3.7/dist-packages/py4j/java_gateway.py\u001b[0m in \u001b[0;36m__call__\u001b[0;34m(self, *args)\u001b[0m\n\u001b[1;32m   1308\u001b[0m         \u001b[0manswer\u001b[0m \u001b[0;34m=\u001b[0m \u001b[0mself\u001b[0m\u001b[0;34m.\u001b[0m\u001b[0mgateway_client\u001b[0m\u001b[0;34m.\u001b[0m\u001b[0msend_command\u001b[0m\u001b[0;34m(\u001b[0m\u001b[0mcommand\u001b[0m\u001b[0;34m)\u001b[0m\u001b[0;34m\u001b[0m\u001b[0;34m\u001b[0m\u001b[0m\n\u001b[1;32m   1309\u001b[0m         return_value = get_return_value(\n\u001b[0;32m-> 1310\u001b[0;31m             answer, self.gateway_client, self.target_id, self.name)\n\u001b[0m\u001b[1;32m   1311\u001b[0m \u001b[0;34m\u001b[0m\u001b[0m\n\u001b[1;32m   1312\u001b[0m         \u001b[0;32mfor\u001b[0m \u001b[0mtemp_arg\u001b[0m \u001b[0;32min\u001b[0m \u001b[0mtemp_args\u001b[0m\u001b[0;34m:\u001b[0m\u001b[0;34m\u001b[0m\u001b[0;34m\u001b[0m\u001b[0m\n",
      "\u001b[0;32m/usr/local/lib/python3.7/dist-packages/pyspark/sql/utils.py\u001b[0m in \u001b[0;36mdeco\u001b[0;34m(*a, **kw)\u001b[0m\n\u001b[1;32m    115\u001b[0m                 \u001b[0;31m# Hide where the exception came from that shows a non-Pythonic\u001b[0m\u001b[0;34m\u001b[0m\u001b[0;34m\u001b[0m\u001b[0;34m\u001b[0m\u001b[0m\n\u001b[1;32m    116\u001b[0m                 \u001b[0;31m# JVM exception message.\u001b[0m\u001b[0;34m\u001b[0m\u001b[0;34m\u001b[0m\u001b[0;34m\u001b[0m\u001b[0m\n\u001b[0;32m--> 117\u001b[0;31m                 \u001b[0;32mraise\u001b[0m \u001b[0mconverted\u001b[0m \u001b[0;32mfrom\u001b[0m \u001b[0;32mNone\u001b[0m\u001b[0;34m\u001b[0m\u001b[0;34m\u001b[0m\u001b[0m\n\u001b[0m\u001b[1;32m    118\u001b[0m             \u001b[0;32melse\u001b[0m\u001b[0;34m:\u001b[0m\u001b[0;34m\u001b[0m\u001b[0;34m\u001b[0m\u001b[0m\n\u001b[1;32m    119\u001b[0m                 \u001b[0;32mraise\u001b[0m\u001b[0;34m\u001b[0m\u001b[0;34m\u001b[0m\u001b[0m\n",
      "\u001b[0;31mAnalysisException\u001b[0m: path file:/content/train.parquet already exists."
     ]
    }
   ],
   "source": [
    "trainDF.write.parquet(\"train.parquet\")\n",
    "testDF.write.parquet(\"test.parquet\")"
   ]
  },
  {
   "cell_type": "markdown",
   "metadata": {
    "id": "78fa24da"
   },
   "source": [
    "### Read the saved Train and Test DataFrame:\n",
    "- Use the dataframes you read in the subsequent steps."
   ]
  },
  {
   "cell_type": "code",
   "execution_count": null,
   "metadata": {
    "id": "c3f5c1e3"
   },
   "outputs": [],
   "source": [
    "train = spark.read.format('parquet').load('train.parquet')\n",
    "test = spark.read.format('parquet').load('test.parquet')\n"
   ]
  },
  {
   "cell_type": "markdown",
   "metadata": {
    "id": "987b4b40"
   },
   "source": [
    "### Create the model:\n",
    "- Perform feature engineering steps.\n",
    "- Create the logistic regression classifier.\n",
    "- Build the pipeline model that uses all feature engineering steps and the model.\n",
    "- Train the pipeline model using the trainig dataset."
   ]
  },
  {
   "cell_type": "code",
   "execution_count": null,
   "metadata": {
    "id": "3278e362"
   },
   "outputs": [],
   "source": [
    "from pyspark.ml.feature import StringIndexer, VectorAssembler,OneHotEncoder\n",
    "from pyspark.ml import Pipeline"
   ]
  },
  {
   "cell_type": "code",
   "execution_count": null,
   "metadata": {
    "colab": {
     "base_uri": "https://localhost:8080/"
    },
    "id": "zOzsEoXKAYUm",
    "outputId": "ec68be5e-ffe4-4f54-cc3c-84a1ddc61ecd"
   },
   "outputs": [
    {
     "data": {
      "text/plain": [
       "['ever_married', 'work_type', 'Residence_type']"
      ]
     },
     "execution_count": 217,
     "metadata": {},
     "output_type": "execute_result"
    }
   ],
   "source": [
    "categoricalCols = [field for (field, dataType) in train.dtypes\n",
    "                   if dataType == \"string\"]\n",
    "categoricalCols"
   ]
  },
  {
   "cell_type": "code",
   "execution_count": null,
   "metadata": {
    "colab": {
     "base_uri": "https://localhost:8080/"
    },
    "id": "GvhE4slvAgzs",
    "outputId": "81dbb52b-742b-402b-d17a-6a70e1e96290"
   },
   "outputs": [
    {
     "data": {
      "text/plain": [
       "['ever_married_OHE', 'work_type_OHE', 'Residence_type_OHE']"
      ]
     },
     "execution_count": 218,
     "metadata": {},
     "output_type": "execute_result"
    }
   ],
   "source": [
    "indexOutputCols = [x + \"_Index\" for x in categoricalCols]\n",
    "indexOutputCols\n",
    "oheOutputCols = [x + \"_OHE\" for x in categoricalCols]\n",
    "oheOutputCols"
   ]
  },
  {
   "cell_type": "code",
   "execution_count": null,
   "metadata": {
    "id": "XQxYvEEMApPO"
   },
   "outputs": [],
   "source": [
    "stringIndexer = StringIndexer(inputCols=categoricalCols,\n",
    "                             outputCols=indexOutputCols,\n",
    "                             handleInvalid='skip')\n",
    "oheEncoder = OneHotEncoder(inputCols=indexOutputCols,\n",
    "                          outputCols=oheOutputCols)"
   ]
  },
  {
   "cell_type": "code",
   "execution_count": null,
   "metadata": {
    "colab": {
     "base_uri": "https://localhost:8080/"
    },
    "id": "ie18IIAMArkP",
    "outputId": "b7e00b18-84f7-4ba1-a21c-1ec5ad224817"
   },
   "outputs": [
    {
     "data": {
      "text/plain": [
       "['age', 'avg_glucose_level', 'bmi', 'smoking_status']"
      ]
     },
     "execution_count": 220,
     "metadata": {},
     "output_type": "execute_result"
    }
   ],
   "source": [
    "numericCols = [field for (field,dataType) in train.dtypes\n",
    "              if ((dataType=='double') | (dataType=='INT') & (field!='stroke') &(field!='stroke'))]\n",
    "numericCols"
   ]
  },
  {
   "cell_type": "code",
   "execution_count": null,
   "metadata": {
    "colab": {
     "base_uri": "https://localhost:8080/"
    },
    "id": "3jgtcw4IAyT0",
    "outputId": "c9bbe8e2-661f-414c-8095-b5152ef9dd1e"
   },
   "outputs": [
    {
     "data": {
      "text/plain": [
       "['ever_married_OHE',\n",
       " 'work_type_OHE',\n",
       " 'Residence_type_OHE',\n",
       " 'age',\n",
       " 'avg_glucose_level',\n",
       " 'bmi',\n",
       " 'smoking_status']"
      ]
     },
     "execution_count": 221,
     "metadata": {},
     "output_type": "execute_result"
    }
   ],
   "source": [
    "assemblerInputs = oheOutputCols + numericCols\n",
    "assemblerInputs"
   ]
  },
  {
   "cell_type": "code",
   "execution_count": null,
   "metadata": {
    "id": "ZW1u3cMVA9TD"
   },
   "outputs": [],
   "source": [
    "vecAssembler = VectorAssembler(inputCols=numericCols,outputCol='features')"
   ]
  },
  {
   "cell_type": "code",
   "execution_count": null,
   "metadata": {
    "id": "106453d7"
   },
   "outputs": [],
   "source": [
    "from pyspark.ml.classification import LogisticRegression\n",
    "model = LogisticRegression(labelCol='stroke',featuresCol='features')\n",
    "pipeline = Pipeline(stages=[stringIndexer,oheEncoder,vecAssembler,model])\n",
    "pipeline_Model = pipeline.fit(train)"
   ]
  },
  {
   "cell_type": "markdown",
   "metadata": {
    "id": "a05c2677"
   },
   "source": [
    "### Perform predictions on tests dataframe:\n",
    "- Test the model using the test dataframe\n",
    "- Select and show the feature column.\n",
    "- Print the schema of the output dataframe.\n",
    "- Select and show both prediction and label columns.\n",
    "- Explore the results for the label column stroke=1. i.e. select both columns (prediction,stroke) for stroke=1.<b>notice the result.</b> \n",
    "- Count the predicted 1 and 0 values.<b>notice the result.</b>   "
   ]
  },
  {
   "cell_type": "code",
   "execution_count": null,
   "metadata": {
    "colab": {
     "base_uri": "https://localhost:8080/"
    },
    "id": "d772bef6",
    "outputId": "232cd5b9-96f4-4972-d14b-949994b0fb44"
   },
   "outputs": [
    {
     "name": "stdout",
     "output_type": "stream",
     "text": [
      "+-------------------------------------+\n",
      "|features                             |\n",
      "+-------------------------------------+\n",
      "|[55.0,89.17,31.5,0.0]                |\n",
      "|[24.0,97.55,26.2,0.0]                |\n",
      "|[33.0,86.97,42.2,0.0]                |\n",
      "|[43.0,88.23,37.6,0.5]                |\n",
      "|[79.0,198.79,24.9,0.0]               |\n",
      "|[43.0,110.32,28.4,0.0]               |\n",
      "|[78.0,75.19,27.6,0.0]                |\n",
      "|[74.0,74.96,26.6,0.0]                |\n",
      "|[14.0,92.22,22.8,0.5]                |\n",
      "|[69.0,101.52,26.8,1.0]               |\n",
      "|[52.0,87.26,40.1,1.0]                |\n",
      "|[82.0,84.03,26.5,0.75]               |\n",
      "|[17.0,81.77,44.7,0.0]                |\n",
      "|[73.0,79.69,29.257489451476793,0.75] |\n",
      "|[59.0,99.06,23.4,0.0]                |\n",
      "|[60.0,80.86,31.0,1.0]                |\n",
      "|[14.0,83.42,28.7,0.0]                |\n",
      "|[69.0,229.21,30.1,1.0]               |\n",
      "|[70.0,202.55,29.257489451476793,0.75]|\n",
      "|[29.0,71.89,27.6,0.0]                |\n",
      "+-------------------------------------+\n",
      "only showing top 20 rows\n",
      "\n"
     ]
    }
   ],
   "source": [
    "predictions = pipeline_Model.transform(test)\n",
    "predictions.select('features').show(truncate=False)"
   ]
  },
  {
   "cell_type": "code",
   "execution_count": null,
   "metadata": {
    "colab": {
     "base_uri": "https://localhost:8080/"
    },
    "id": "7SgGIfWMF-bg",
    "outputId": "74a63eb2-3dda-4ae4-9647-6f453ef9d963"
   },
   "outputs": [
    {
     "name": "stdout",
     "output_type": "stream",
     "text": [
      "root\n",
      " |-- id: integer (nullable = true)\n",
      " |-- gender: integer (nullable = true)\n",
      " |-- age: double (nullable = true)\n",
      " |-- hypertension: integer (nullable = true)\n",
      " |-- heart_disease: integer (nullable = true)\n",
      " |-- ever_married: string (nullable = true)\n",
      " |-- work_type: string (nullable = true)\n",
      " |-- Residence_type: string (nullable = true)\n",
      " |-- avg_glucose_level: double (nullable = true)\n",
      " |-- bmi: double (nullable = true)\n",
      " |-- smoking_status: double (nullable = true)\n",
      " |-- stroke: integer (nullable = true)\n",
      " |-- ever_married_Index: double (nullable = false)\n",
      " |-- work_type_Index: double (nullable = false)\n",
      " |-- Residence_type_Index: double (nullable = false)\n",
      " |-- ever_married_OHE: vector (nullable = true)\n",
      " |-- work_type_OHE: vector (nullable = true)\n",
      " |-- Residence_type_OHE: vector (nullable = true)\n",
      " |-- features: vector (nullable = true)\n",
      " |-- rawPrediction: vector (nullable = true)\n",
      " |-- probability: vector (nullable = true)\n",
      " |-- prediction: double (nullable = false)\n",
      "\n"
     ]
    }
   ],
   "source": [
    "predictions.printSchema()\n"
   ]
  },
  {
   "cell_type": "code",
   "execution_count": null,
   "metadata": {
    "colab": {
     "base_uri": "https://localhost:8080/"
    },
    "id": "3ea267eb",
    "outputId": "5060f4bc-9491-45db-d265-4160b1be7558"
   },
   "outputs": [
    {
     "name": "stdout",
     "output_type": "stream",
     "text": [
      "+------+----------+\n",
      "|stroke|prediction|\n",
      "+------+----------+\n",
      "|     0|       0.0|\n",
      "|     0|       0.0|\n",
      "|     0|       0.0|\n",
      "|     0|       0.0|\n",
      "|     0|       0.0|\n",
      "|     0|       0.0|\n",
      "|     0|       0.0|\n",
      "|     1|       0.0|\n",
      "|     0|       0.0|\n",
      "|     0|       0.0|\n",
      "|     0|       0.0|\n",
      "|     1|       0.0|\n",
      "|     0|       0.0|\n",
      "|     0|       0.0|\n",
      "|     0|       0.0|\n",
      "|     0|       0.0|\n",
      "|     0|       0.0|\n",
      "|     0|       0.0|\n",
      "|     0|       0.0|\n",
      "|     0|       0.0|\n",
      "+------+----------+\n",
      "only showing top 20 rows\n",
      "\n"
     ]
    }
   ],
   "source": [
    "predictions.select('stroke','prediction').show()"
   ]
  },
  {
   "cell_type": "code",
   "execution_count": null,
   "metadata": {
    "colab": {
     "base_uri": "https://localhost:8080/"
    },
    "id": "ies6U5PRHnYp",
    "outputId": "c316fd79-71d0-42df-9996-a868e220da2d"
   },
   "outputs": [
    {
     "name": "stdout",
     "output_type": "stream",
     "text": [
      "+------+----------+\n",
      "|stroke|prediction|\n",
      "+------+----------+\n",
      "|     1|       0.0|\n",
      "|     1|       0.0|\n",
      "|     1|       0.0|\n",
      "|     1|       0.0|\n",
      "|     1|       0.0|\n",
      "|     1|       0.0|\n",
      "|     1|       0.0|\n",
      "|     1|       0.0|\n",
      "|     1|       0.0|\n",
      "|     1|       0.0|\n",
      "|     1|       0.0|\n",
      "|     1|       0.0|\n",
      "|     1|       0.0|\n",
      "|     1|       0.0|\n",
      "|     1|       0.0|\n",
      "|     1|       0.0|\n",
      "|     1|       0.0|\n",
      "|     1|       0.0|\n",
      "|     1|       0.0|\n",
      "|     1|       0.0|\n",
      "+------+----------+\n",
      "only showing top 20 rows\n",
      "\n"
     ]
    }
   ],
   "source": [
    "predictions.select('stroke','prediction').filter(predictions.stroke==1).show()  "
   ]
  },
  {
   "cell_type": "code",
   "execution_count": null,
   "metadata": {
    "colab": {
     "base_uri": "https://localhost:8080/"
    },
    "id": "480d892e",
    "outputId": "58ab90b5-d87c-47b7-8090-a7b9bdc3cef6",
    "scrolled": false
   },
   "outputs": [
    {
     "name": "stdout",
     "output_type": "stream",
     "text": [
      "+----------+-----+\n",
      "|prediction|count|\n",
      "+----------+-----+\n",
      "|       0.0|  944|\n",
      "+----------+-----+\n",
      "\n"
     ]
    }
   ],
   "source": [
    "predictions.groupBy('prediction').count().show()"
   ]
  },
  {
   "cell_type": "markdown",
   "metadata": {
    "id": "daec120f"
   },
   "source": [
    "### Evaluate the model performance\n",
    "- Use <b>BinaryClassificationEvaluator</b>. This will calculate the <b>ROC</b>.\n",
    "- Set the parameters as follow:\n",
    "    - <b>rawPredictionCol='prediction'</b> and <b>labelCol='stroke'</b>"
   ]
  },
  {
   "cell_type": "code",
   "execution_count": null,
   "metadata": {
    "id": "a7b5ad25"
   },
   "outputs": [],
   "source": [
    "from pyspark.ml.evaluation import BinaryClassificationEvaluator"
   ]
  },
  {
   "cell_type": "code",
   "execution_count": null,
   "metadata": {
    "id": "44d3a1e6"
   },
   "outputs": [],
   "source": [
    "evaluatorROC = BinaryClassificationEvaluator(rawPredictionCol='prediction'\n",
    "                                             ,labelCol='stroke')"
   ]
  },
  {
   "cell_type": "code",
   "execution_count": null,
   "metadata": {
    "colab": {
     "base_uri": "https://localhost:8080/"
    },
    "id": "3adbe41f",
    "outputId": "4f70671b-6740-412f-c2f5-8218e1c94fb8"
   },
   "outputs": [
    {
     "data": {
      "text/plain": [
       "0.5"
      ]
     },
     "execution_count": 231,
     "metadata": {},
     "output_type": "execute_result"
    }
   ],
   "source": [
    "evaluatorROC.evaluate(predictions)"
   ]
  },
  {
   "cell_type": "markdown",
   "metadata": {
    "id": "40206589"
   },
   "source": [
    "### Improve Model Performance\n",
    "- You may noticed that <b>the target label is imbalanced</b>.\n",
    "- LogisticRegression classifier has a special parameter <b>weightCol</b> to deal with imbalanced class.\n",
    "- In order to use this parameter you must have a <b>weightCol</b> in your training dataframe.\n",
    "- In order to create this column you will need to define a <b>UDF</b> and apply it to the target label column.\n",
    "- Create a LogisticRegression classifier with <b>weightCol</b> parameter.\n",
    "- Build and train a pipeline model with the new LogisticRegression.\n",
    "- Perform the prediction on the test dataframe. \n",
    "- Select and show both prediction and label columns.\n",
    "- Explore the results for the label column stroke=1. i.e. select both columns (prediction,stroke) for stroke=1.<b>notice the result.</b> \n",
    "- Count the predicted 1 and 0 values.<b>notice the result.</b>   \n",
    "- Evaluate the model performance exactly as in the previous step.\n",
    "### YOU SHOULD OBTAIN  ROC > 0.65\n",
    "<BR>\n",
    "<b><font color='red'>Note: feel free to deal with the imbalanced cluster with the above method or another. However, you can only use methods applied on SPARK DATAFRAME</font></b>"
   ]
  },
  {
   "cell_type": "code",
   "execution_count": null,
   "metadata": {
    "id": "03385adc"
   },
   "outputs": [],
   "source": [
    "ratio=0.95\n",
    "def weight_balance(labels):\n",
    "    return when(labels == 1, ratio).otherwise(1*(1-ratio))\n",
    "Modify_train= train.withColumn('weights', weight_balance(col('stroke')))\n",
    "model = LogisticRegression(labelCol='stroke',featuresCol='features',weightCol='weights')\n",
    "pipeline = Pipeline(stages=[stringIndexer,oheEncoder,vecAssembler,model])\n",
    "pipeline_Model = pipeline.fit(Modify_train)\n",
    "Modify_predictions = pipeline_Model.transform(test)"
   ]
  },
  {
   "cell_type": "code",
   "execution_count": null,
   "metadata": {
    "colab": {
     "base_uri": "https://localhost:8080/"
    },
    "id": "00e034e9",
    "outputId": "780193ca-af8c-4fca-b5a8-505a7aabbe34"
   },
   "outputs": [
    {
     "name": "stdout",
     "output_type": "stream",
     "text": [
      "+------+----------+\n",
      "|stroke|prediction|\n",
      "+------+----------+\n",
      "|     0|       0.0|\n",
      "|     0|       0.0|\n",
      "|     0|       0.0|\n",
      "|     0|       0.0|\n",
      "|     0|       1.0|\n",
      "|     0|       0.0|\n",
      "|     0|       1.0|\n",
      "|     1|       1.0|\n",
      "|     0|       0.0|\n",
      "|     0|       1.0|\n",
      "|     0|       0.0|\n",
      "|     1|       1.0|\n",
      "|     0|       0.0|\n",
      "|     0|       1.0|\n",
      "|     0|       0.0|\n",
      "|     0|       1.0|\n",
      "|     0|       0.0|\n",
      "|     0|       1.0|\n",
      "|     0|       1.0|\n",
      "|     0|       0.0|\n",
      "+------+----------+\n",
      "only showing top 20 rows\n",
      "\n"
     ]
    }
   ],
   "source": [
    "predictions_last.select('stroke','prediction').show()"
   ]
  },
  {
   "cell_type": "code",
   "execution_count": null,
   "metadata": {
    "colab": {
     "base_uri": "https://localhost:8080/"
    },
    "id": "wS5T1qQ1LQ4s",
    "outputId": "8ce700bc-3102-4d87-a251-df9a63cde587"
   },
   "outputs": [
    {
     "name": "stdout",
     "output_type": "stream",
     "text": [
      "+------+----------+\n",
      "|stroke|prediction|\n",
      "+------+----------+\n",
      "|     1|       1.0|\n",
      "|     1|       1.0|\n",
      "|     1|       1.0|\n",
      "|     1|       1.0|\n",
      "|     1|       1.0|\n",
      "|     1|       0.0|\n",
      "|     1|       1.0|\n",
      "|     1|       0.0|\n",
      "|     1|       1.0|\n",
      "|     1|       1.0|\n",
      "|     1|       1.0|\n",
      "|     1|       1.0|\n",
      "|     1|       1.0|\n",
      "|     1|       1.0|\n",
      "|     1|       1.0|\n",
      "|     1|       0.0|\n",
      "|     1|       0.0|\n",
      "|     1|       1.0|\n",
      "|     1|       1.0|\n",
      "|     1|       1.0|\n",
      "+------+----------+\n",
      "only showing top 20 rows\n",
      "\n"
     ]
    }
   ],
   "source": [
    "predictions_last.select('stroke','prediction').filter(predictions_last.stroke==1).show()  "
   ]
  },
  {
   "cell_type": "code",
   "execution_count": null,
   "metadata": {
    "colab": {
     "base_uri": "https://localhost:8080/"
    },
    "id": "66efa0c6",
    "outputId": "11270c0a-4bed-4b03-b0fe-a76e98a862ce"
   },
   "outputs": [
    {
     "name": "stdout",
     "output_type": "stream",
     "text": [
      "+----------+-----+\n",
      "|prediction|count|\n",
      "+----------+-----+\n",
      "|       0.0|  673|\n",
      "|       1.0|  271|\n",
      "+----------+-----+\n",
      "\n"
     ]
    }
   ],
   "source": [
    "predictions_last.groupBy('prediction').count().show()"
   ]
  },
  {
   "cell_type": "code",
   "execution_count": null,
   "metadata": {
    "colab": {
     "base_uri": "https://localhost:8080/"
    },
    "id": "4e8c18b5",
    "outputId": "17c51cb9-82a9-4842-f8c9-907124cc36c9"
   },
   "outputs": [
    {
     "data": {
      "text/plain": [
       "0.7514662133446665"
      ]
     },
     "execution_count": 241,
     "metadata": {},
     "output_type": "execute_result"
    }
   ],
   "source": [
    "evaluatorROC.evaluate(predictions_last)"
   ]
  }
 ],
 "metadata": {
  "colab": {
   "name": "Spark_and_Python_for_Big_Data_Final_Exam.ipynb",
   "provenance": []
  },
  "kernelspec": {
   "display_name": "Python 3",
   "language": "python",
   "name": "python3"
  },
  "language_info": {
   "codemirror_mode": {
    "name": "ipython",
    "version": 3
   },
   "file_extension": ".py",
   "mimetype": "text/x-python",
   "name": "python",
   "nbconvert_exporter": "python",
   "pygments_lexer": "ipython3",
   "version": "3.8.5"
  }
 },
 "nbformat": 4,
 "nbformat_minor": 5
}
